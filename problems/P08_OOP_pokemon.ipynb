{
 "cells": [
  {
   "cell_type": "markdown",
   "metadata": {},
   "source": [
    "# 포켓몬 게임 만들기\n",
    "\n",
    "> 포켓몬 게임을 만들어봅시다. \n",
    "\n",
    "class Pokemon\n",
    "\n",
    "```\n",
    "* 모든 포켓몬은 기본적으로 이름(name), 레벨(level), 체력(hp)를 가지고 있습니다. \n",
    "\n",
    "* hp는 사용자로부터 값을 받는 것이 아니라 '레벨*10 + (1~5)중 랜덤값'으로 설정됩니다. \n",
    "\n",
    "* 포켓몬은 체력을 잃거나 회복할 수 있습니다.\n",
    "ex) pikachu.set_hp(4)\n",
    "\n",
    "* 포켓몬은 공격을 할 수 있습니다. \n",
    "ex) pikachu.attack(squirtle)\n",
    "```\n",
    "\n",
    "이외에 자유롭게 내용을 추가해서 만들어봅시다."
   ]
  },
  {
   "cell_type": "code",
   "execution_count": 191,
   "metadata": {},
   "outputs": [],
   "source": [
    "import random\n",
    "\n",
    "class Pokemon:   \n",
    "    def __init__(self, name, level):\n",
    "        self.name = name\n",
    "        self.level = level\n",
    "        self.hp = level*10 + random.randrange(1,6) \n",
    "        \n",
    "    def set_hp(self, num):\n",
    "        self.hp += num\n",
    "        print(f'{self.name}의 체력이 {self.hp}가 되었습니다.')\n",
    "        \n",
    "    def attack(self, other):\n",
    "        dmg = random.randint(1,10)\n",
    "        print(f'{self.name}이(가) {other.name}에게 몸통 박치기를 했습니다.')\n",
    "        other.set_hp(-dmg)\n",
    "        \n",
    "    \n",
    "        \n",
    "        "
   ]
  },
  {
   "cell_type": "code",
   "execution_count": 43,
   "metadata": {},
   "outputs": [],
   "source": [
    "pika = Pokemon('피카부',10)"
   ]
  },
  {
   "cell_type": "code",
   "execution_count": 42,
   "metadata": {},
   "outputs": [],
   "source": [
    "fire = Pokemon('파이리',8)"
   ]
  },
  {
   "cell_type": "code",
   "execution_count": 107,
   "metadata": {},
   "outputs": [
    {
     "name": "stdout",
     "output_type": "stream",
     "text": [
      "피카부이 파이리에게 몸통 박치기를 했습니다.\n",
      "파이리의 체력이 -303가 되었습니다.\n",
      "파이리이 피카부에게 몸통 박치기를 했습니다.\n",
      "피카부의 체력이 -282가 되었습니다.\n",
      "==GG==\n"
     ]
    }
   ],
   "source": [
    "while True:\n",
    "    pika.attack(fire)\n",
    "    fire.attack(pika)\n",
    "    if pika.hp<=0 or fire.hp<=0:\n",
    "        print('==GG==')\n",
    "        break"
   ]
  },
  {
   "cell_type": "code",
   "execution_count": 147,
   "metadata": {},
   "outputs": [],
   "source": [
    "import random\n",
    "class Man:\n",
    "    items = ['a','b','c','d']\n",
    "       \n",
    "    def __init__(self, name, money):\n",
    "        self.name = name\n",
    "        self.money = money\n",
    "        self.item = random.choice(Man.items)\n"
   ]
  },
  {
   "cell_type": "code",
   "execution_count": 148,
   "metadata": {},
   "outputs": [],
   "source": [
    "i = Man('ㄷㄷ',50000)"
   ]
  },
  {
   "cell_type": "code",
   "execution_count": 189,
   "metadata": {},
   "outputs": [],
   "source": [
    "class Trainer:\n",
    "    def __init__(self, name, age):\n",
    "        self.name = name\n",
    "        self.age = age\n",
    "        self.town = '태초마을'\n",
    "        self.monsterball = []\n",
    "        \n",
    "    def get_pokemon(self, pokemon):\n",
    "        if random.randint(0,1):\n",
    "            self.monsterball.append(pokemon)\n",
    "            print(f'{self.name}이(가) {pokemon.name}을 잡았다...')\n",
    "        else:\n",
    "            print(f'{pokemon.level}: {pokemon.name}이(가) 도망갔다...')\n",
    "            \n",
    "    \n",
    "    def pick_pokemon(self):\n",
    "        if self.monsterball:\n",
    "            random.choice(self.monsterball)\n",
    "        else:\n",
    "            print('포켓몬을 잡아주세요')\n",
    "        \n",
    "        \n",
    "        \n",
    "        \n",
    "        "
   ]
  },
  {
   "cell_type": "code",
   "execution_count": 184,
   "metadata": {},
   "outputs": [
    {
     "name": "stdout",
     "output_type": "stream",
     "text": [
      "암이(가) 피카부을 잡았다...\n",
      "8: 파이리이 도망갔다...\n"
     ]
    }
   ],
   "source": [
    "jiwoo = Trainer('암',100)\n",
    "fire = Pokemon('파이리',8)\n",
    "pika = Pokemon('피카부',10)\n",
    "jiwoo.get_pokemon(pika)\n",
    "\n",
    "jiwoo.get_pokemon(fire)"
   ]
  },
  {
   "cell_type": "code",
   "execution_count": 195,
   "metadata": {},
   "outputs": [],
   "source": [
    "class Pikachu(Pokemon):\n",
    "    pokemon_type = 'elec'\n",
    "    \n",
    "    def attack(self, other):\n",
    "        if random.randint(0,1):\n",
    "            dmg = random.randint(1,10)\n",
    "            print(f'{self.name}이(가) {other.name}에게 몸통 박치기를 했습니다.')       \n",
    "            other.set_hp(-dmg)\n",
    "        else:\n",
    "            dmg = random.randint(1,15)\n",
    "            print(f'{self.name}이(가) {other.name}에게 100만볼트를 했습니다.')\n",
    "            other.set_hp(-dmg)\n",
    "        if other.pokemon_type == 'water':\n",
    "            print('>>..물 속성이라 공격이 4배..<<')\n",
    "            other.set_hp(-dmg*4)"
   ]
  },
  {
   "cell_type": "code",
   "execution_count": 198,
   "metadata": {},
   "outputs": [],
   "source": [
    "class Squirtle(Pokemon):\n",
    "    pokemon_type = 'water'\n",
    "    \n",
    "    def attack(self, other):\n",
    "        if random.randint(0,1):\n",
    "            dmg = random.randint(1,10)\n",
    "            print(f'{self.name}이(가) {other.name}에게 몸통박치기을 했습니다.')            \n",
    "        else:\n",
    "            dmg = random.randint(1,15)\n",
    "            print(f'{self.name}이(가) {other.name}에게 물고문을 가했습니다.')\n",
    "        other.set_hp(-dmg)"
   ]
  },
  {
   "cell_type": "code",
   "execution_count": 197,
   "metadata": {
    "scrolled": false
   },
   "outputs": [
    {
     "name": "stdout",
     "output_type": "stream",
     "text": [
      "트레이너 이름을 입력해주세요: 지우\n",
      "트레이너2 이름을 입력해주세요: 웅이\n",
      "10: 방사능 먹은 꼬부기이(가) 도망갔다...\n",
      "10: 방사능 먹은 꼬부기이(가) 도망갔다...\n",
      "10: 파이리이(가) 도망갔다...\n",
      "웅이이(가) 파이리을 잡았다...\n",
      "지우이(가) 이상해씨을 잡았다...\n",
      "10: 이상해씨이(가) 도망갔다...\n",
      "지우이(가) 피카츄을 잡았다...\n",
      "100: 피카츄이(가) 도망갔다...\n",
      "트레이너 1의 공격\n"
     ]
    },
    {
     "ename": "AttributeError",
     "evalue": "'NoneType' object has no attribute 'attack'",
     "output_type": "error",
     "traceback": [
      "\u001b[1;31m---------------------------------------------------------------------------\u001b[0m",
      "\u001b[1;31mAttributeError\u001b[0m                            Traceback (most recent call last)",
      "\u001b[1;32m<ipython-input-197-88f1d945ff41>\u001b[0m in \u001b[0;36m<module>\u001b[1;34m\u001b[0m\n\u001b[0;32m     20\u001b[0m \u001b[1;32mwhile\u001b[0m \u001b[1;32mTrue\u001b[0m\u001b[1;33m:\u001b[0m\u001b[1;33m\u001b[0m\u001b[1;33m\u001b[0m\u001b[0m\n\u001b[0;32m     21\u001b[0m     \u001b[0mprint\u001b[0m\u001b[1;33m(\u001b[0m\u001b[1;34m'트레이너 1의 공격'\u001b[0m\u001b[1;33m)\u001b[0m\u001b[1;33m\u001b[0m\u001b[1;33m\u001b[0m\u001b[0m\n\u001b[1;32m---> 22\u001b[1;33m     \u001b[0mt1_pokemon\u001b[0m\u001b[1;33m.\u001b[0m\u001b[0mattack\u001b[0m\u001b[1;33m(\u001b[0m\u001b[0mt2_pokemon\u001b[0m\u001b[1;33m)\u001b[0m\u001b[1;33m\u001b[0m\u001b[1;33m\u001b[0m\u001b[0m\n\u001b[0m\u001b[0;32m     23\u001b[0m     \u001b[0mprint\u001b[0m\u001b[1;33m(\u001b[0m\u001b[1;34m'트레이너 2의 공격'\u001b[0m\u001b[1;33m)\u001b[0m\u001b[1;33m\u001b[0m\u001b[1;33m\u001b[0m\u001b[0m\n\u001b[0;32m     24\u001b[0m     \u001b[0mt2_pokemon\u001b[0m\u001b[1;33m.\u001b[0m\u001b[0mattack\u001b[0m\u001b[1;33m(\u001b[0m\u001b[0mt1_pokemon\u001b[0m\u001b[1;33m)\u001b[0m\u001b[1;33m\u001b[0m\u001b[1;33m\u001b[0m\u001b[0m\n",
      "\u001b[1;31mAttributeError\u001b[0m: 'NoneType' object has no attribute 'attack'"
     ]
    }
   ],
   "source": [
    "p1 = Squirtle('방사능 먹은 꼬부기',10)\n",
    "p2 = Pokemon('파이리',10)\n",
    "p3 = Pokemon('이상해씨',10)\n",
    "p4 = Pikachu('피카츄',100)\n",
    "oh = [p1,p2,p3,p4]\n",
    "\n",
    "name = input('트레이너 이름을 입력해주세요: ')\n",
    "name2 = input('트레이너2 이름을 입력해주세요: ')\n",
    "t1 = Trainer(name, 50)\n",
    "t2 = Trainer(name2, 710)\n",
    "for pokemon in oh:\n",
    "    t1.get_pokemon(pokemon)\n",
    "    t2.get_pokemon(pokemon)\n",
    "    \n",
    "\n",
    "t1_pokemon = t1.pick_pokemon()\n",
    "t2_pokemon = t2.pick_pokemon()\n",
    "\n",
    "\n",
    "while True:\n",
    "    print('트레이너 1의 공격')\n",
    "    t1_pokemon.attack(t2_pokemon)\n",
    "    print('트레이너 2의 공격')\n",
    "    t2_pokemon.attack(t1_pokemon)\n",
    "    pika.attack(fire)\n",
    "    fire.attack(pika)\n",
    "    if t2_pokemon.hp<=0 or t1_pokemon.hp<=0:\n",
    "        print('==GG==')\n",
    "        break"
   ]
  },
  {
   "cell_type": "code",
   "execution_count": 335,
   "metadata": {},
   "outputs": [],
   "source": [
    "class Buyer:\n",
    "    def __init__(self,name,money):\n",
    "        self.name = name\n",
    "        self.money = money\n",
    "        self.pocket = []\n",
    "        \n",
    "    def buyitem(self, item):\n",
    "        if not item in Seller.itemkey:\n",
    "            print(\"없는 물건\")\n",
    "        else:\n",
    "            if self.money >= Seller.items[item]:\n",
    "                self.pocket.append(item)\n",
    "                Seller.item.append(item)\n",
    "                self.money -= Seller.items[item]\n",
    "            else:\n",
    "                print(f'<{item}>구입 할 돈 부족')\n",
    "            \n",
    "    def stat(self):\n",
    "        print(f'{self.name}님의 상태:')\n",
    "        print(f'잔액 : {self.money}원')    \n",
    "        print(f'포켓 : {self.pocket}\\n')    "
   ]
  },
  {
   "cell_type": "code",
   "execution_count": 342,
   "metadata": {},
   "outputs": [],
   "source": [
    "class Seller:\n",
    "    items = {'마실 물':50000,'수류탄':34000,'케첩':70000,'밧줄':100000,'다이아몬드':1000000}\n",
    "    itemkey = ['마실 물','수류탄','케첩','밧줄','다이아몬드']\n",
    "    item = []\n",
    "    \n",
    "    def __init__(self,name):\n",
    "        self.name = name\n",
    "\n",
    "        \n",
    "    def stat(self):\n",
    "        print(f'{self.name}님의 상태:') \n",
    "        print(f'판매한 것들 : {list(set(Seller.item))}\\n')   \n",
    "        \n",
    "    def kill(self, other):\n",
    "        print(f'{self.other}를 죽였다.')\n",
    "        del __del__(self,other)\n",
    "        \n",
    "\n",
    "        \n",
    "        \n",
    "    \n",
    "        \n",
    "    \n",
    "    \n",
    "    "
   ]
  },
  {
   "cell_type": "code",
   "execution_count": 345,
   "metadata": {},
   "outputs": [
    {
     "name": "stdout",
     "output_type": "stream",
     "text": [
      "<다이아몬드>구입 할 돈 부족\n",
      "<밧줄>구입 할 돈 부족\n",
      "me님의 상태:\n",
      "잔액 : 12000원\n",
      "포켓 : ['마실 물', '밧줄', '밧줄', '밧줄', '케첩', '수류탄', '수류탄']\n",
      "\n",
      "you님의 상태:\n",
      "판매한 것들 : ['마실 물', '수류탄', '밧줄', '케첩']\n",
      "\n"
     ]
    }
   ],
   "source": [
    "me = Buyer('me',500000)\n",
    "you = Seller('you')\n",
    "\n",
    "\n",
    "me.buyitem('마실 물')\n",
    "me.buyitem('다이아몬드')\n",
    "me.buyitem('밧줄')\n",
    "me.buyitem('밧줄')\n",
    "me.buyitem('밧줄')\n",
    "me.buyitem('케첩')\n",
    "me.buyitem('수류탄')\n",
    "me.buyitem('수류탄')\n",
    "me.buyitem('밧줄')\n",
    "me.stat()\n",
    "you.stat()"
   ]
  },
  {
   "cell_type": "code",
   "execution_count": 272,
   "metadata": {},
   "outputs": [
    {
     "name": "stdout",
     "output_type": "stream",
     "text": [
      "34\n"
     ]
    }
   ],
   "source": [
    "items = {'a':50,'b':34,'c':70,'d':100,'e':72}\n",
    "keys = ['a','b','c','d','e']\n",
    "\n",
    "print(items[random.choice(keys)])\n",
    "\n",
    "\n",
    "\n"
   ]
  }
 ],
 "metadata": {
  "kernelspec": {
   "display_name": "Python 3",
   "language": "python",
   "name": "python3"
  },
  "language_info": {
   "codemirror_mode": {
    "name": "ipython",
    "version": 3
   },
   "file_extension": ".py",
   "mimetype": "text/x-python",
   "name": "python",
   "nbconvert_exporter": "python",
   "pygments_lexer": "ipython3",
   "version": "3.6.7"
  },
  "latex_envs": {
   "LaTeX_envs_menu_present": true,
   "autoclose": false,
   "autocomplete": true,
   "bibliofile": "biblio.bib",
   "cite_by": "apalike",
   "current_citInitial": 1,
   "eqLabelWithNumbers": true,
   "eqNumInitial": 1,
   "hotkeys": {
    "equation": "Ctrl-E",
    "itemize": "Ctrl-I"
   },
   "labels_anchors": false,
   "latex_user_defs": false,
   "report_style_numbering": false,
   "user_envs_cfg": false
  },
  "toc": {
   "base_numbering": 1,
   "nav_menu": {},
   "number_sections": true,
   "sideBar": true,
   "skip_h1_title": false,
   "title_cell": "Table of Contents",
   "title_sidebar": "Contents",
   "toc_cell": false,
   "toc_position": {},
   "toc_section_display": true,
   "toc_window_display": false
  }
 },
 "nbformat": 4,
 "nbformat_minor": 2
}
