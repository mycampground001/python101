{
 "cells": [
  {
   "cell_type": "markdown",
   "metadata": {},
   "source": [
    "# 메소드 없는 세상 <1>\n",
    "\n",
    "> 알파벳으로 이뤄진 word를 입력받아 알파벳 대소문자를 서로 교환한 결과를 반환하는 `my_swapcase(word)`를 작성해주세요.\n",
    "\n",
    "**`.upper()`, `.lower()`, `swapcase()`는 사용하지 말아주세요.**\n",
    "\n",
    "**Tip! 문자와 숫자에는 특별한 관계가 있습니다. Google에서 아스키 코드를 참고하세요**\n"
   ]
  },
  {
   "cell_type": "code",
   "execution_count": 79,
   "metadata": {},
   "outputs": [],
   "source": [
    "# 아래에 코드를 작성해주세요.\n",
    "# 대문자에서 +32 == 소문자\n",
    "def is_lower(s):\n",
    "    return ord(s)>=97 and ord(s)<=122\n",
    "\n",
    "def is_upper(s):\n",
    "    return ord(s)>=65 and ord(s)<=90\n",
    "\n",
    "def my_swapcase(word):\n",
    "    result=''\n",
    "    for i in word:\n",
    "        if is_lower(i):\n",
    "            result += chr(ord(i)-32)\n",
    "        elif is_upper(i):\n",
    "            result += chr(ord(i)+32)\n",
    "        else:\n",
    "            result += i\n",
    "    return result"
   ]
  },
  {
   "cell_type": "code",
   "execution_count": 94,
   "metadata": {},
   "outputs": [
    {
     "name": "stdout",
     "output_type": "stream",
     "text": [
      "HELLO, wORLD!\n",
      "@_@\n",
      "2^3은 8이다!\n"
     ]
    }
   ],
   "source": [
    "print(my_swapcase('hello, World!')) # HELLO, wORLD!\n",
    "print(my_swapcase('@_@')) # @_@\n",
    "print(my_swapcase('2^3은 8이다!')) #2^3은 8이다!"
   ]
  },
  {
   "cell_type": "markdown",
   "metadata": {},
   "source": [
    "# 메소드 없는 세상 <2>\n",
    "\n",
    "> 우리는 문자열을 만들어 나갈 때, `.join(iterable)` 함수를 사용합니다. \n",
    ">\n",
    "> `.join(iterable)`이 생각나지 않을 때를 위해 직접 만들어보면서 감사함을 느껴봅시다.\n",
    ">\n",
    "> `my_join(target, word)`를 만들어 문자열을 반환해주세요.\n",
    ">\n",
    "> target은 바꿀 대상(iterable)이며, word는 합쳐지는 단어입니다. \n",
    "\n",
    "---\n",
    "\n",
    "```\n",
    "예시)\n",
    "''.join(a) 와 my_join(a, '')은 같은 함수 호출입니다.\n",
    "\n",
    "print(my_join('배고파', '.'))\n",
    "print(my_join(['1', '2', '3'], ''))\n",
    "\n",
    "배.고.파\n",
    "123\n",
    "```"
   ]
  },
  {
   "cell_type": "code",
   "execution_count": 367,
   "metadata": {},
   "outputs": [],
   "source": [
    "# 아래에 코드를 작성해주세요.\n",
    "\n",
    "def my_join(target, word):\n",
    "\n",
    "    return word.join(target)"
   ]
  },
  {
   "cell_type": "code",
   "execution_count": 368,
   "metadata": {},
   "outputs": [
    {
     "name": "stdout",
     "output_type": "stream",
     "text": [
      "배.고.파\n",
      "123\n"
     ]
    }
   ],
   "source": [
    "print(my_join('배고파', '.'))\n",
    "print(my_join(['1', '2', '3'], ''))"
   ]
  },
  {
   "cell_type": "markdown",
   "metadata": {},
   "source": [
    "#  가능한 적게 변경하기\n",
    "\n",
    "> 대문자와 소문자가 혼합되어 있는 문자열어 주어지며\n",
    ">\n",
    "> 다음의 기준에 따라서 문자열을 소문자 혹은 대문자로 변환하세요.\n",
    "\n",
    "\n",
    "*  가능한 적게 변경하세요.\n",
    "*  만약에 문자열의 대문자 혹은 소문자가 같다면, 문자열을 소문자로 변경하세요.\n",
    "\n",
    "--- \n",
    "\n",
    "```\n",
    "예시 입력) \n",
    "solve(\"coDe\")\n",
    "solve(\"CODe\")\n",
    "solve(\"coDE\")\n",
    "\n",
    "예시 출력)\n",
    "\"code\"\n",
    "\"CODE\"\n",
    "\"code\"\n",
    "```"
   ]
  },
  {
   "cell_type": "code",
   "execution_count": 464,
   "metadata": {},
   "outputs": [],
   "source": [
    "# 아래에 코드를 작성해주세요.\n",
    "def solved(word):\n",
    "    lower = 0\n",
    "    upper = 0    \n",
    "    for i in word:\n",
    "        if is_upper(i):\n",
    "            upper += 1\n",
    "        elif is_lower(i):\n",
    "            lower += 1  \n",
    "            \n",
    "    if upper<=lower:\n",
    "        return word.lower()\n",
    "    else:\n",
    "        return word.upper()\n",
    "        \n",
    "    \n",
    "    "
   ]
  },
  {
   "cell_type": "code",
   "execution_count": 465,
   "metadata": {},
   "outputs": [
    {
     "name": "stdout",
     "output_type": "stream",
     "text": [
      "code\n",
      "CODE\n",
      "code\n"
     ]
    }
   ],
   "source": [
    "print(solved(\"coDe\"))\n",
    "print(solved(\"CODe\"))\n",
    "print(solved(\"coDE\"))"
   ]
  },
  {
   "cell_type": "markdown",
   "metadata": {},
   "source": [
    "# 숨바꼭질\n",
    "\n",
    "> 숫자가 주어지면, 사용되지 않은 숫자를 프린트하세요.\n",
    "\n",
    "---\n",
    "\n",
    "```\n",
    "예시)\n",
    "unused_digits(12, 34, 56, 78) \n",
    "\"09\"\n",
    "\n",
    "unused_digits(2015, 8, 26) \n",
    "\"3479\"\n",
    "```\n",
    "\n",
    "\n",
    "**결과값은 정렬되어야 합니다.**\n",
    "\n"
   ]
  },
  {
   "cell_type": "code",
   "execution_count": 592,
   "metadata": {},
   "outputs": [],
   "source": [
    "# 아래에 코드를 작성해주세요.\n",
    "def unused_digits(*num):\n",
    "    str_num = '1234567890'\n",
    "    s = ''\n",
    "    result=''\n",
    "\n",
    "    for i in num:\n",
    "        s += str(i)\n",
    "\n",
    "    for i in str_num:\n",
    "        if i not in s:\n",
    "            result += i\n",
    "\n",
    "    return result\n",
    "    \n",
    "def digit(*numbers):\n",
    "    result = set('0123456789')\n",
    "    for x in numbers:\n",
    "        result -= set(str(x))\n",
    "        print(result)\n",
    "    return ''.join(sorted(result))"
   ]
  },
  {
   "cell_type": "code",
   "execution_count": 593,
   "metadata": {},
   "outputs": [
    {
     "name": "stdout",
     "output_type": "stream",
     "text": [
      "90\n",
      "3479\n",
      "{'3', '6', '8', '9', '7', '5', '0', '4'}\n",
      "{'6', '8', '9', '7', '5', '0', '4'}\n",
      "{'6', '8', '9', '7', '5', '0', '4'}\n",
      "{'6', '8', '9', '7', '5', '0', '4'}\n",
      "0456789\n"
     ]
    }
   ],
   "source": [
    "print(unused_digits(12, 34, 56, 78))\n",
    "print(unused_digits(2015, 8, 26))\n",
    "print(digit(12,23,3,31))"
   ]
  },
  {
   "cell_type": "code",
   "execution_count": 590,
   "metadata": {
    "scrolled": true
   },
   "outputs": [
    {
     "name": "stdout",
     "output_type": "stream",
     "text": [
      "[1, 2, 3, 'h', 'i']\n"
     ]
    }
   ],
   "source": [
    "a = [1,2,3]\n",
    "a.extend('hi')\n",
    "print(a)"
   ]
  },
  {
   "cell_type": "code",
   "execution_count": 591,
   "metadata": {},
   "outputs": [
    {
     "name": "stdout",
     "output_type": "stream",
     "text": [
      "[2, 3, 4, 'h', 'i', 'd']\n"
     ]
    }
   ],
   "source": [
    "a = [2,3,4]\n",
    "a += 'hid'\n",
    "print(a)"
   ]
  },
  {
   "cell_type": "markdown",
   "metadata": {},
   "source": [
    "# 짝홀짝홀"
   ]
  },
  {
   "cell_type": "markdown",
   "metadata": {},
   "source": [
    "> n개의 양의 정수 리스트가 주어지면, 홀수와 짝수를 분리하고 각각의 조건에 맞게 홀수와 짝수를 \n",
    "정렬하세요.\n",
    "\n",
    "> 조건\n",
    "1. 짝수와 홀수가 번갈아 가면서 나오게 됩니다.\n",
    "2. 짝수는 오름차순으로 홀수는 내림차순으로 되어야합니다.\n",
    "\n",
    "> 인자 조건\n",
    "1. 인자 리스트의 크기는 적어도 4이상입니다.\n",
    "2. 인자 리스트의 요소값으로 0은 존재하지 않습니다.\n",
    "3. 인자 리스트의 요소값이 반복될 수 있으나 출력할 때는 중복 값이 없습니다.\n",
    "\n",
    "```\n",
    "결과) \n",
    "\n",
    "even_and_odd([7, 3 , 14 , 17])\n",
    "[14, 17, 7, 3]\n",
    "\n",
    "even_and_odd([1, 3, 5, 7, 9, 11])\n",
    "[11, 9, 7, 5, 3, 1]\n",
    "\n",
    "print(even_and_odd([1, 2, 2, 4, 4, 15, 6, 2004, 9, 11]))\n",
    "[2, 11, 4, 6, 2004]\n",
    "```"
   ]
  },
  {
   "cell_type": "code",
   "execution_count": 596,
   "metadata": {
    "scrolled": true
   },
   "outputs": [],
   "source": [
    "# 여기에 코드를 작성하세요\n",
    "# 1   2   4   6   9   11   15   2004\n",
    "\n",
    "def even_and_odd(numbers):\n",
    "    even = [i for i in sorted(set(numbers)) if not i%2]\n",
    "    odd = [i for i in sorted(set(numbers)) if i%2][::-1]\n",
    "    \n",
    "    if len(even) > len(odd):\n",
    "        tmp = even[len(odd):]\n",
    "        even = even[:len(odd)]\n",
    "    else:\n",
    "        tmp = odd[len(even):]\n",
    "        odd = odd[:len(even)]\n",
    "        \n",
    "    result = []\n",
    "    \n",
    "    for x,y in zip(even,odd):\n",
    "        result.append(x)\n",
    "        result.append(y)\n",
    "    return result + tmp\n"
   ]
  },
  {
   "cell_type": "code",
   "execution_count": 597,
   "metadata": {},
   "outputs": [
    {
     "name": "stdout",
     "output_type": "stream",
     "text": [
      "[12, 2]\n",
      "[3, 4, 123, 4]\n"
     ]
    }
   ],
   "source": [
    "a=[12,2,3,4,123,4]\n",
    "print(a[:2])\n",
    "print(a[2:])"
   ]
  },
  {
   "cell_type": "code",
   "execution_count": 598,
   "metadata": {},
   "outputs": [
    {
     "data": {
      "text/plain": [
       "{1, 2, 3, 6, 99, 123, 233, 2990}"
      ]
     },
     "execution_count": 598,
     "metadata": {},
     "output_type": "execute_result"
    }
   ],
   "source": [
    "set([1,3,2,6,123,233,99,2990])"
   ]
  },
  {
   "cell_type": "code",
   "execution_count": 601,
   "metadata": {},
   "outputs": [
    {
     "name": "stdout",
     "output_type": "stream",
     "text": [
      "[14, 17, 7, 3]\n",
      "[11, 9, 7, 5, 3, 1]\n",
      "[2, 15, 4, 11, 6, 9, 2004, 5, 2006, 1]\n"
     ]
    }
   ],
   "source": [
    "print(even_and_odd([7, 3, 14, 17]))\n",
    "print(even_and_odd([1, 3, 5, 7, 9, 11]))\n",
    "print(even_and_odd([1, 2, 2, 4, 4, 15,5, 6, 2004,2006, 9, 11]))"
   ]
  },
  {
   "cell_type": "markdown",
   "metadata": {},
   "source": [
    "# 문자열 계산하기\n",
    "\n",
    "> 아래와 같이 문자열이 주어졌을 때, 바보같은 사용자를 위해 계산을 해주려고 한다.\n",
    ">\n",
    "> 이 계산기는 더하기와 빼기밖에 못한다.\n",
    ">\n",
    "> `calc(equation)`을 만들어봅시다.\n",
    "\n",
    "---\n",
    "\n",
    "```\n",
    "예시\n",
    "calc('123+2-124')\n",
    "1\n",
    "calc('-12+12-7979+9191')\n",
    "1212\n",
    "calc('+1-1+1-1+1-1+1-1+1-1+1-1+1-1+1-1+1-1+1-1+1-1+1-1+1-1+1-1+1-1+1-1')\n",
    "0\n",
    "```"
   ]
  },
  {
   "cell_type": "code",
   "execution_count": 604,
   "metadata": {},
   "outputs": [],
   "source": [
    "# 여기에 코드를 작성하세요\n",
    "def is_plus(w):\n",
    "    return w == '+'\n",
    "\n",
    "def is_minus(w):\n",
    "    return w == '-'\n",
    "\n",
    "def calc(tlr):\n",
    "    akdlsjtm = ''\n",
    "    vmffjtm = ''\n",
    "    sw = [0,0] # sw[0] 0은 + // 1은 -      sw[1] 1은 문자. \n",
    "    \n",
    "    equation = ''\n",
    "    cnt = 0\n",
    "    tlr2 = tlr[::-1]\n",
    "    \n",
    "    \n",
    "    ## 뒤의 문자가 숫자가 아닐때 무시\n",
    "    if not tlr2[0].isdecimal():\n",
    "        for i in range(len(tlr2)-1):\n",
    "            if not tlr2[i].isdecimal() and not tlr2[i+1].isdecimal():\n",
    "                cnt += 1\n",
    "            elif tlr2[i].isdecimal():\n",
    "                break\n",
    "        for i in range(len(tlr)-(cnt+1)):\n",
    "            equation += tlr[i]\n",
    "    else:\n",
    "        equation = tlr\n",
    "        \n",
    "        \n",
    "    ## 식을 만드는 코드\n",
    "    for i in equation:\n",
    "        ## -----------------------\n",
    "        if is_minus(i) and sw[0] == 0 and sw[1] == 0:\n",
    "            akdlsjtm += ' '+ i\n",
    "            sw[0] = 1\n",
    "            sw[1] = 1\n",
    "        elif i.isdecimal() and sw[0] == 1:\n",
    "            akdlsjtm += i\n",
    "            sw[1] = 0\n",
    "        elif is_minus(i) and sw[0] == 1 and sw[1] == 0:\n",
    "            akdlsjtm += ' ' + i\n",
    "            sw[1] = 1\n",
    "        elif is_minus(i) and sw[1] == 1: #연산이 연속으로 올 때\n",
    "            akdlsjtm += ''\n",
    "\n",
    "        ## +++++++++++++++++++++++++\n",
    "        elif is_plus(i) and sw[0] == 1 and sw[1] == 0:\n",
    "            vmffjtm += ' '+ i\n",
    "            sw[0] = 0\n",
    "            sw[1] = 1\n",
    "        elif i.isdecimal() and sw[0] == 0:\n",
    "            vmffjtm += i\n",
    "            sw[1] = 0\n",
    "        elif is_plus(i) and sw[0] == 0 and sw[1] == 0:\n",
    "            vmffjtm += ' ' + i\n",
    "            sw[1] = 1\n",
    "        elif is_plus(i) and sw[1] == 1: #연산이 연속으로 올 때\n",
    "            vmffjtm += ''    \n",
    "\n",
    "\n",
    "    dmatn = sum(map(int,akdlsjtm.split()))\n",
    "    didtn = sum(map(int,vmffjtm.split()))\n",
    "  \n",
    "######    print(f'+ : {vmffjtm} = {didtn}')\n",
    "######print(f'- : {akdlsjtm} = {dmatn}')\n",
    "    \n",
    "    return dmatn + didtn\n",
    "###    return f'합 :{didtn}{dmatn} = {dmatn + didtn} \\n'"
   ]
  },
  {
   "cell_type": "code",
   "execution_count": 605,
   "metadata": {
    "scrolled": true
   },
   "outputs": [
    {
     "name": "stdout",
     "output_type": "stream",
     "text": [
      "1\n",
      "0\n",
      "4521\n",
      "1111\n",
      "0\n",
      "-2\n",
      "1111\n",
      "32\n"
     ]
    }
   ],
   "source": [
    "print(calc('123+2-124'))\n",
    "\n",
    "print(calc('++++++1-1+1-1+1-1+1-1+1-1+++++++++++++++++1-1+1-1+1-1+1-1+1-1+1-1+1-1+1------------1+1-1+1-1+1-1'))\n",
    "\n",
    "print(calc('-12-12-7979+9191+2222+++++++1111'))\n",
    "\n",
    "print(calc('2222--------1111---'))\n",
    "\n",
    "print(calc('1111-------2222++++++++1111'))\n",
    "\n",
    "print(calc('1-------2++++++++1----+++3+++----1+_+_+_+_+_+_++_++_+_'))\n",
    "\n",
    "print(calc('+------2222--------1111---++'))\n",
    "\n",
    "print(calc('+_+_+_+__+_asdfsad+_+_+_+_+2--+_+_+_sadf+_+_+_sdf+_+_+_+_+_sadf+_4_+_+_+_+sdfa-_+_+asdf_+_+_+_34+_+'))\n",
    "\n"
   ]
  },
  {
   "cell_type": "code",
   "execution_count": null,
   "metadata": {},
   "outputs": [],
   "source": []
  },
  {
   "cell_type": "code",
   "execution_count": 624,
   "metadata": {},
   "outputs": [],
   "source": [
    "def cal(equation):\n",
    "    tmp = ''\n",
    "    result = 0\n",
    "    for char in equation:\n",
    "        if tmp and not char.isdecimal():\n",
    "            result += int(tmp)\n",
    "            tmp = ''\n",
    "        tmp += char\n",
    "    return result + int(tmp)\n",
    "    "
   ]
  },
  {
   "cell_type": "code",
   "execution_count": 626,
   "metadata": {},
   "outputs": [
    {
     "name": "stdout",
     "output_type": "stream",
     "text": [
      "1\n",
      "3183\n"
     ]
    }
   ],
   "source": [
    "print(cal('123+2-124'))\n",
    "print(cal('1113+2222-124-1-23-4'))"
   ]
  }
 ],
 "metadata": {
  "kernelspec": {
   "display_name": "Python 3",
   "language": "python",
   "name": "python3"
  },
  "language_info": {
   "codemirror_mode": {
    "name": "ipython",
    "version": 3
   },
   "file_extension": ".py",
   "mimetype": "text/x-python",
   "name": "python",
   "nbconvert_exporter": "python",
   "pygments_lexer": "ipython3",
   "version": "3.6.7"
  },
  "latex_envs": {
   "LaTeX_envs_menu_present": true,
   "autoclose": false,
   "autocomplete": true,
   "bibliofile": "biblio.bib",
   "cite_by": "apalike",
   "current_citInitial": 1,
   "eqLabelWithNumbers": true,
   "eqNumInitial": 1,
   "hotkeys": {
    "equation": "Ctrl-E",
    "itemize": "Ctrl-I"
   },
   "labels_anchors": false,
   "latex_user_defs": false,
   "report_style_numbering": false,
   "user_envs_cfg": false
  },
  "toc": {
   "base_numbering": 1,
   "nav_menu": {},
   "number_sections": true,
   "sideBar": true,
   "skip_h1_title": false,
   "title_cell": "Table of Contents",
   "title_sidebar": "Contents",
   "toc_cell": false,
   "toc_position": {},
   "toc_section_display": true,
   "toc_window_display": false
  }
 },
 "nbformat": 4,
 "nbformat_minor": 2
}
