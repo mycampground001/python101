{
 "cells": [
  {
   "cell_type": "markdown",
   "metadata": {},
   "source": [
    "# 문자열 덧셈 하기 - 문자열 조작 및 반복/조건문 활용\n",
    "\n",
    "**문제 풀기 전에 어떻게 풀어야할지 생각부터 해봅시다!**\n",
    "\n",
    "> 사람은 덧셈을 할때 뒤에서부터 계산하고, 받아올림을 합니다.\n",
    "> \n",
    "> 문자열 2개를 받아 덧셈을 하여 숫자를 반환하는 함수 `my_sum(num1, num2)`을 만들어보세요.\n",
    "\n",
    "\n",
    "\n",
    "**절대로 `return int(num1)+int(num2)` 이렇게 풀지 맙시다!!**\n",
    "\n",
    "**재귀함수도 사용할 필요 없습니다.**"
   ]
  },
  {
   "cell_type": "code",
   "execution_count": 269,
   "metadata": {},
   "outputs": [],
   "source": [
    "# def my_sum(num1,num2):\n",
    "#     result = ''\n",
    "#     gg= ''\n",
    "#     num3=''\n",
    "#     if len(num1)>len(num2):    \n",
    "#         num2 = '0'* (len(num1)-len(num2)+1) + num2\n",
    "#         num3 = '0'* (len(num1)+1)\n",
    "#         num1 = '0' + num1\n",
    "#     else:\n",
    "#         num1 = '0'* (len(num2)-len(num1)+1) + num1\n",
    "#         num3 = '0'* (len(num2)+1)\n",
    "#         num2 = '0' + num2\n",
    "#     for i in range(-1,-len(num1)-1,-1):\n",
    "#         if int(num1[i])+int(num2[i])+int(num3[i]) >= 10:\n",
    "#             result = str(int(num1[i])+int(num2[i])+int(num3[i])-10) + result\n",
    "#             num3 = '0'*(len(num3)-(-i+1))+str(10**(-i))\n",
    "#         else:\n",
    "#             result = str(int(num1[i])+int(num2[i])+int(num3[i])) + result          \n",
    "#     for j in range(1,len(result)):\n",
    "#         if result[0]=='0':\n",
    "#             gg += result[j]\n",
    "#         else:\n",
    "#             gg = result      \n",
    "#     return gg\n",
    "\n",
    "def my_sum(num1,num2):\n",
    "    len_num1 = len(num1)\n",
    "    len_num2 = len(num2)\n",
    "    if len_num1 > len_num2:\n",
    "        num2 = (len_num1 - len_num2) * '0' + num2\n",
    "    else:\n",
    "        num1 = (len_num2 - len_num1) * '0' + num1\n",
    "    \n",
    "    num1 = num1[::-1]\n",
    "    num2 = num2[::-1]\n",
    "    carry = 0\n",
    "    result = ''\n",
    "    \n",
    "    for i in range(len(num1)):\n",
    "        carry, r = divmod((int(num1[i])+int(num2[i]) + carry), 10)\n",
    "        result = str(r) + result\n",
    "    if carry == 1:\n",
    "        result = str(carry) + result\n",
    "        \n",
    "    return result"
   ]
  },
  {
   "cell_type": "code",
   "execution_count": 270,
   "metadata": {},
   "outputs": [
    {
     "name": "stdout",
     "output_type": "stream",
     "text": [
      "13\n",
      "200\n",
      "10000\n"
     ]
    }
   ],
   "source": [
    "print(my_sum('8', '5'))\n",
    "print(my_sum('123', '77')) # 200\n",
    "print(my_sum('1', '9999'))"
   ]
  }
 ],
 "metadata": {
  "kernelspec": {
   "display_name": "Python 3",
   "language": "python",
   "name": "python3"
  },
  "language_info": {
   "codemirror_mode": {
    "name": "ipython",
    "version": 3
   },
   "file_extension": ".py",
   "mimetype": "text/x-python",
   "name": "python",
   "nbconvert_exporter": "python",
   "pygments_lexer": "ipython3",
   "version": "3.6.7"
  },
  "latex_envs": {
   "LaTeX_envs_menu_present": true,
   "autoclose": false,
   "autocomplete": true,
   "bibliofile": "biblio.bib",
   "cite_by": "apalike",
   "current_citInitial": 1,
   "eqLabelWithNumbers": true,
   "eqNumInitial": 1,
   "hotkeys": {
    "equation": "Ctrl-E",
    "itemize": "Ctrl-I"
   },
   "labels_anchors": false,
   "latex_user_defs": false,
   "report_style_numbering": false,
   "user_envs_cfg": false
  },
  "toc": {
   "base_numbering": 1,
   "nav_menu": {},
   "number_sections": true,
   "sideBar": true,
   "skip_h1_title": false,
   "title_cell": "Table of Contents",
   "title_sidebar": "Contents",
   "toc_cell": false,
   "toc_position": {},
   "toc_section_display": true,
   "toc_window_display": false
  }
 },
 "nbformat": 4,
 "nbformat_minor": 2
}
