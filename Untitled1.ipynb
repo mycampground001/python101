{
 "cells": [
  {
   "cell_type": "code",
   "execution_count": 10,
   "metadata": {},
   "outputs": [
    {
     "name": "stdout",
     "output_type": "stream",
     "text": [
      "1\n",
      "3\n",
      "10 8 9\n",
      "#1 18\n"
     ]
    }
   ],
   "source": [
    "cnt = 0\n",
    "for i in range(int(input())):\n",
    "    n = int(input())\n",
    "    m = input()\n",
    "\n",
    "    mlist = list(map(int,m.split()))\n",
    "    mlist.append(0)\n",
    "\n",
    "# print(mlist)\n",
    "# mset = 0\n",
    "    mlen = 1\n",
    "    msum = mlist[0]\n",
    "    mres = 0\n",
    "    cnt += 1\n",
    "    mset = 0\n",
    "    \n",
    "    for i in range(len(mlist)-1):\n",
    "        if mlist[i]<=mlist[i+1] and mset==0:\n",
    "            mlen += 1\n",
    "            mres += mlist[i+1]\n",
    "            mset = 1\n",
    "        elif mlist[i]>mlist[i+1] and mset == 1:\n",
    "            if mlist[i]*(mlen-1) -(mres-mlist[i])>=0:\n",
    "                mres += mlist[i]*(mlen-1) -(mres-mlist[i])\n",
    "                mlen = 1\n",
    "                mset = 0\n",
    "\n",
    "    print(f'#{cnt} {mres}')\n",
    "#print(mlen-1)"
   ]
  },
  {
   "cell_type": "code",
   "execution_count": 25,
   "metadata": {},
   "outputs": [
    {
     "data": {
      "text/plain": [
       "True"
      ]
     },
     "execution_count": 25,
     "metadata": {},
     "output_type": "execute_result"
    }
   ],
   "source": [
    "a = [1,2,3,4,5,7,22,33,46,75,97,111,120,233]\n",
    "ALGOL = 233\n",
    "\n",
    "def epsltmflcl(a,ALGOL,s,e):\n",
    "    if s>e:\n",
    "        return False\n",
    "    \n",
    "    m = (s+e)//2\n",
    "    \n",
    "    if a[m]<ALGOL:\n",
    "        return epsltmflcl(a,ALGOL,m+1,e)\n",
    "    elif a[m]>ALGOL:\n",
    "        return epsltmflcl(a,ALGOL,s,m-1)\n",
    "    elif a[m]==ALGOL:\n",
    "        return True\n",
    "    return False\n",
    "\n",
    "epsltmflcl(a,ALGOL,0,len(a))   "
   ]
  },
  {
   "cell_type": "code",
   "execution_count": 4,
   "metadata": {
    "scrolled": true
   },
   "outputs": [
    {
     "name": "stdout",
     "output_type": "stream",
     "text": [
      "4\n",
      "4\n",
      "2 4 7 10\n",
      "#1 28\n",
      "4\n",
      "2 4 7 10\n",
      "#2 28\n",
      "3\n",
      "2 6 9\n",
      "#3 12\n",
      "wer\n"
     ]
    },
    {
     "ename": "ValueError",
     "evalue": "invalid literal for int() with base 10: 'wer'",
     "output_type": "error",
     "traceback": [
      "\u001b[1;31m---------------------------------------------------------------------------\u001b[0m",
      "\u001b[1;31mValueError\u001b[0m                                Traceback (most recent call last)",
      "\u001b[1;32m<ipython-input-4-dfa584f6939f>\u001b[0m in \u001b[0;36m<module>\u001b[1;34m\u001b[0m\n\u001b[0;32m      1\u001b[0m \u001b[0mcnt\u001b[0m \u001b[1;33m=\u001b[0m \u001b[1;36m1\u001b[0m\u001b[1;33m\u001b[0m\u001b[1;33m\u001b[0m\u001b[0m\n\u001b[0;32m      2\u001b[0m \u001b[1;32mfor\u001b[0m \u001b[0mi\u001b[0m \u001b[1;32min\u001b[0m \u001b[0mrange\u001b[0m\u001b[1;33m(\u001b[0m\u001b[0mint\u001b[0m\u001b[1;33m(\u001b[0m\u001b[0minput\u001b[0m\u001b[1;33m(\u001b[0m\u001b[1;33m)\u001b[0m\u001b[1;33m)\u001b[0m\u001b[1;33m)\u001b[0m\u001b[1;33m:\u001b[0m\u001b[1;33m\u001b[0m\u001b[1;33m\u001b[0m\u001b[0m\n\u001b[1;32m----> 3\u001b[1;33m     \u001b[0mn\u001b[0m \u001b[1;33m=\u001b[0m \u001b[0mint\u001b[0m\u001b[1;33m(\u001b[0m\u001b[0minput\u001b[0m\u001b[1;33m(\u001b[0m\u001b[1;33m)\u001b[0m\u001b[1;33m)\u001b[0m\u001b[1;33m\u001b[0m\u001b[1;33m\u001b[0m\u001b[0m\n\u001b[0m\u001b[0;32m      4\u001b[0m     \u001b[0mm\u001b[0m \u001b[1;33m=\u001b[0m \u001b[0mlist\u001b[0m\u001b[1;33m(\u001b[0m\u001b[0mmap\u001b[0m\u001b[1;33m(\u001b[0m\u001b[0mint\u001b[0m\u001b[1;33m,\u001b[0m\u001b[0minput\u001b[0m\u001b[1;33m(\u001b[0m\u001b[1;33m)\u001b[0m\u001b[1;33m.\u001b[0m\u001b[0msplit\u001b[0m\u001b[1;33m(\u001b[0m\u001b[1;33m)\u001b[0m\u001b[1;33m)\u001b[0m\u001b[1;33m)\u001b[0m\u001b[1;33m\u001b[0m\u001b[1;33m\u001b[0m\u001b[0m\n\u001b[0;32m      5\u001b[0m     \u001b[0msw\u001b[0m \u001b[1;33m=\u001b[0m \u001b[1;36m0\u001b[0m\u001b[1;33m\u001b[0m\u001b[1;33m\u001b[0m\u001b[0m\n",
      "\u001b[1;31mValueError\u001b[0m: invalid literal for int() with base 10: 'wer'"
     ]
    }
   ],
   "source": [
    "cnt = 1\n",
    "for i in range(int(input())):\n",
    "    n = int(input())\n",
    "    m = list(map(int,input().split()))\n",
    "    sw = 0\n",
    "    for j in range(len(m)-1):\n",
    "        if m[j]>m[j+1]:\n",
    "            print(-1)\n",
    "            break\n",
    "        else:\n",
    "            sw = 1\n",
    "    if sw:\n",
    "        print(f'#{cnt} {m[-2]*m[-3]}')\n",
    "        sw=0\n",
    "    cnt += 1"
   ]
  },
  {
   "cell_type": "code",
   "execution_count": 12,
   "metadata": {},
   "outputs": [
    {
     "name": "stdout",
     "output_type": "stream",
     "text": [
      "000001\n",
      "lose\n"
     ]
    }
   ],
   "source": [
    "num = input()\n",
    "if len(num)<6:\n",
    "    num = str(int(num))+'0'*(6-len(num))\n",
    "    num = int(num)\n",
    "else:\n",
    "    num = int(num)\n",
    "\n",
    "c = [0] *12\n",
    "\n",
    "for i in range(6):\n",
    "    c[num%10] += 1\n",
    "    num //= 10\n",
    "\n",
    "i = 0\n",
    "tri = run = 0\n",
    "while i< 10:\n",
    "    if c[i] >=3:\n",
    "        c[i] -= 3\n",
    "        tri += 1\n",
    "        continue # i+=1 수행하지 않고 i<10으로 갑니다.\n",
    "    if c[i]>=1 and c[i+1] >=1 and c[i+2] >= 1:\n",
    "        c[i] -= 1\n",
    "        c[i+1] -= 1\n",
    "        c[i+2] -= 1\n",
    "        run += 1\n",
    "        continue\n",
    "    i += 1\n",
    "\n",
    "if run + tri == 2:\n",
    "    print(\"baby gin\")\n",
    "else:\n",
    "    print(\"lose\")"
   ]
  },
  {
   "cell_type": "code",
   "execution_count": 131,
   "metadata": {
    "scrolled": true
   },
   "outputs": [
    {
     "name": "stdout",
     "output_type": "stream",
     "text": [
      "[[0, 0, 1, 1, 1], [1, 1, 1, 1, 0], [0, 0, 1, 0, 0], [0, 1, 1, 1, 1], [1, 1, 1, 0, 1]]\n",
      "[[0, 1, 0, 0, 1], [0, 1, 0, 1, 1], [1, 1, 1, 1, 1], [1, 1, 0, 1, 0], [1, 0, 0, 1, 1]]\n",
      "1\n"
     ]
    }
   ],
   "source": [
    "n=5\n",
    "m=3\n",
    "a=[[0,0,1,1,1],[1,1,1,1,0],[0,0,1,0,0],[0,1,1,1,1],[1,1,1,0,1]]\n",
    "vr = [0]*n\n",
    "te=[]\n",
    "res = 0\n",
    "for i in range(n):\n",
    "    for j in range(n):\n",
    "        te.append(a[j][i])\n",
    "    vr[i] = te\n",
    "    te=[]\n",
    "print(a)\n",
    "print(vr)\n",
    "\n",
    "    \n",
    "for i in range(n):\n",
    "    if int(''.join(list(map(str,a[i]))))"
   ]
  },
  {
   "cell_type": "code",
   "execution_count": 124,
   "metadata": {
    "scrolled": true
   },
   "outputs": [
    {
     "name": "stdout",
     "output_type": "stream",
     "text": [
      "10\n",
      "5 3\n",
      "0 0 1 1 1\n",
      "1 1 1 1 0\n",
      "0 0 1 0 0\n",
      "0 1 1 1 1\n",
      "1 1 1 0 1\n",
      "#1 5\n",
      "qwer\n"
     ]
    },
    {
     "ename": "ValueError",
     "evalue": "invalid literal for int() with base 10: 'qwer'",
     "output_type": "error",
     "traceback": [
      "\u001b[1;31m---------------------------------------------------------------------------\u001b[0m",
      "\u001b[1;31mValueError\u001b[0m                                Traceback (most recent call last)",
      "\u001b[1;32m<ipython-input-124-059b0fb5397e>\u001b[0m in \u001b[0;36m<module>\u001b[1;34m\u001b[0m\n\u001b[0;32m      1\u001b[0m \u001b[0mcnt\u001b[0m \u001b[1;33m=\u001b[0m \u001b[1;36m1\u001b[0m\u001b[1;33m\u001b[0m\u001b[1;33m\u001b[0m\u001b[0m\n\u001b[0;32m      2\u001b[0m \u001b[1;32mfor\u001b[0m \u001b[0mk\u001b[0m \u001b[1;32min\u001b[0m \u001b[0mrange\u001b[0m\u001b[1;33m(\u001b[0m\u001b[0mint\u001b[0m\u001b[1;33m(\u001b[0m\u001b[0minput\u001b[0m\u001b[1;33m(\u001b[0m\u001b[1;33m)\u001b[0m\u001b[1;33m)\u001b[0m\u001b[1;33m)\u001b[0m\u001b[1;33m:\u001b[0m\u001b[1;33m\u001b[0m\u001b[1;33m\u001b[0m\u001b[0m\n\u001b[1;32m----> 3\u001b[1;33m     \u001b[0mn\u001b[0m\u001b[1;33m,\u001b[0m \u001b[0mm\u001b[0m \u001b[1;33m=\u001b[0m \u001b[0mmap\u001b[0m\u001b[1;33m(\u001b[0m\u001b[0mint\u001b[0m\u001b[1;33m,\u001b[0m\u001b[0minput\u001b[0m\u001b[1;33m(\u001b[0m\u001b[1;33m)\u001b[0m\u001b[1;33m.\u001b[0m\u001b[0msplit\u001b[0m\u001b[1;33m(\u001b[0m\u001b[1;33m)\u001b[0m\u001b[1;33m)\u001b[0m\u001b[1;33m\u001b[0m\u001b[1;33m\u001b[0m\u001b[0m\n\u001b[0m\u001b[0;32m      4\u001b[0m     \u001b[0mvr\u001b[0m \u001b[1;33m=\u001b[0m \u001b[1;33m[\u001b[0m\u001b[1;36m0\u001b[0m\u001b[1;33m]\u001b[0m \u001b[1;33m*\u001b[0m\u001b[0mn\u001b[0m\u001b[1;33m\u001b[0m\u001b[1;33m\u001b[0m\u001b[0m\n\u001b[0;32m      5\u001b[0m     \u001b[0mte\u001b[0m \u001b[1;33m=\u001b[0m \u001b[1;33m[\u001b[0m\u001b[1;33m]\u001b[0m\u001b[1;33m\u001b[0m\u001b[1;33m\u001b[0m\u001b[0m\n",
      "\u001b[1;31mValueError\u001b[0m: invalid literal for int() with base 10: 'qwer'"
     ]
    }
   ],
   "source": [
    "cnt = 1\n",
    "for k in range(int(input())):\n",
    "    n, m = map(int,input().split())\n",
    "    vr = [0] *n\n",
    "    te = []\n",
    "    res = 0\n",
    "    a = [0]*n\n",
    "    \n",
    "    for z in range(n):\n",
    "        a[z] = list(map(int,input().split()))\n",
    "    \n",
    "    for i in range(n):\n",
    "        for j in range(n):\n",
    "            te.append(a[j][i])\n",
    "        vr[i] = te\n",
    "        te=[]\n",
    "    \n",
    "    for i in range(n):\n",
    "        if '1'*m in ''.join(list(map(str,a[i]))).replace('0','9'):\n",
    "            res+=1\n",
    "        if '1'*m in ''.join(list(map(str,vr[i]))).replace('0','9'):\n",
    "            res+=1\n",
    "    print(f'#{cnt} {res}')\n",
    "    cnt += 1"
   ]
  },
  {
   "cell_type": "code",
   "execution_count": 57,
   "metadata": {},
   "outputs": [
    {
     "name": "stdout",
     "output_type": "stream",
     "text": [
      "3\n",
      "1\n"
     ]
    }
   ],
   "source": [
    "# a =[0,1,1,1,0,1,0,1,0,1,1,1,0]\n",
    "a =[1,1,1,0,1,0]\n",
    "sw = 0\n",
    "rr = 0\n",
    "uu = 0\n",
    "for i in range(len(a)):\n",
    "    if a[i] == 1 and sw == 0:\n",
    "        rr += 1\n",
    "    elif a[i] == 1 and sw==1:\n",
    "        sw=0\n",
    "        pass\n",
    "    elif a[i] == 0 and sw==0:\n",
    "        rr = 0\n",
    "    elif a[i] == 0 and sw ==1:\n",
    "        uu+=1\n",
    "        sw=0\n",
    "        rr=0\n",
    "        print(i)\n",
    "    if rr%3 == 0 and rr != 0:\n",
    "        sw=1\n",
    "        rr=0\n",
    "print(uu)\n"
   ]
  }
 ],
 "metadata": {
  "kernelspec": {
   "display_name": "Python 3",
   "language": "python",
   "name": "python3"
  },
  "language_info": {
   "codemirror_mode": {
    "name": "ipython",
    "version": 3
   },
   "file_extension": ".py",
   "mimetype": "text/x-python",
   "name": "python",
   "nbconvert_exporter": "python",
   "pygments_lexer": "ipython3",
   "version": "3.6.7"
  },
  "toc": {
   "base_numbering": 1,
   "nav_menu": {},
   "number_sections": true,
   "sideBar": true,
   "skip_h1_title": false,
   "title_cell": "Table of Contents",
   "title_sidebar": "Contents",
   "toc_cell": false,
   "toc_position": {},
   "toc_section_display": true,
   "toc_window_display": false
  }
 },
 "nbformat": 4,
 "nbformat_minor": 2
}
